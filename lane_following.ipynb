{
 "cells": [
  {
   "cell_type": "code",
   "execution_count": 1,
   "metadata": {},
   "outputs": [],
   "source": [
    "import numpy as np\n",
    "#import lane_detection"
   ]
  },
  {
   "cell_type": "code",
   "execution_count": 2,
   "metadata": {},
   "outputs": [],
   "source": [
    "def get_slopes_intercepts(lines):\n",
    "    retSlope = []\n",
    "    retIntercept = []\n",
    "    for line in lines:\n",
    "        x1, y1, x2, y2 = line[0]\n",
    "        slope = (y1-y2) / (x1 - x2)\n",
    "        xIntercept = -y1/slope + x1\n",
    "        retSlope.append(slope)\n",
    "        retIntercept.append(xIntercept)\n",
    "    return retSlope, retIntercept"
   ]
  },
  {
   "cell_type": "code",
   "execution_count": 3,
   "metadata": {},
   "outputs": [],
   "source": [
    "def get_lane_center(lanes):\n",
    "    center = (get_slopes_intercepts(lanes[0][0])[1] + get_slopes_intercepts(lanes[0][1])[1]) / 2\n",
    "    for i in range(1, len(lanes)):\n",
    "        lane_center = (get_slopes_intercepts(lanes[i][0])[1] + get_slopes_intercepts(lanes[i][1])[1]) / 2\n",
    "        # we get intercepts for line 1 and line 2 for each lane and get the average\n",
    "        if np.abs(lane_center - 1920/2) < np.abs(center - 1920/2):\n",
    "            center = lane_center\n",
    "            slope = (get_slopes_intercepts(lanes[i][0])[0] + get_slopes_intercepts(lanes[i][1])[0]) / 2\n",
    "    \n",
    "    return center, slope\n",
    "\n",
    "\n"
   ]
  }
 ],
 "metadata": {
  "kernelspec": {
   "display_name": "bluecv",
   "language": "python",
   "name": "python3"
  },
  "language_info": {
   "codemirror_mode": {
    "name": "ipython",
    "version": 3
   },
   "file_extension": ".py",
   "mimetype": "text/x-python",
   "name": "python",
   "nbconvert_exporter": "python",
   "pygments_lexer": "ipython3",
   "version": "3.9.2"
  },
  "orig_nbformat": 4
 },
 "nbformat": 4,
 "nbformat_minor": 2
}
