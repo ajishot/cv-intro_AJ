{
 "cells": [
  {
   "cell_type": "code",
   "execution_count": 1,
   "metadata": {},
   "outputs": [],
   "source": [
    "import cv2\n",
    "import numpy as np\n",
    "import matplotlib.pyplot as plt"
   ]
  },
  {
   "cell_type": "code",
   "execution_count": 2,
   "metadata": {},
   "outputs": [],
   "source": [
    "def detect_lines(img, threshold1 = 50, threshold2 = 150, apertureSize = 3, minLineLength = 100, maxLineGap = 10):\n",
    "    grayimg = cv2.cvtColor(img, cv2.COLOR_BGR2GRAY)\n",
    "    edges = cv2.Canny(grayimg, threshold1, threshold2, apertureSize)\n",
    "    lines = cv2.HoughlinesP(\n",
    "        edges,\n",
    "        1,\n",
    "        np.pi/180,\n",
    "        50,\n",
    "        minLineLength,\n",
    "        maxLineGap,\n",
    "    )"
   ]
  },
  {
   "cell_type": "code",
   "execution_count": 3,
   "metadata": {},
   "outputs": [],
   "source": [
    "def draw_lines(img, lines, color = (0, 255, 0)):\n",
    "    for line in lines:\n",
    "        x1, y1, x2, y2 = line[0]\n",
    "        slope = (y1-y2) / (x1 - x2)\n",
    "        if np.abs(slope) > 1.5:\n",
    "            cv2.line(img, (x1, y1), (x2, y2), color, 2)\n",
    "    plt.imshow(img)"
   ]
  },
  {
   "cell_type": "code",
   "execution_count": 5,
   "metadata": {},
   "outputs": [],
   "source": [
    "def get_slopes_intercepts(lines):\n",
    "    retSlope = []\n",
    "    retIntercept = []\n",
    "    for line in lines:\n",
    "        x1, y1, x2, y2 = line[0]\n",
    "        slope = (y1-y2) / (x1 - x2)\n",
    "        xIntercept = -y1/slope + x1\n",
    "        retSlope.append(slope)\n",
    "        retIntercept.append(xIntercept)\n",
    "    return retSlope, retIntercept\n"
   ]
  },
  {
   "cell_type": "code",
   "execution_count": null,
   "metadata": {},
   "outputs": [],
   "source": [
    "def detect_lines(lines):\n",
    "    slope, intercept = get_slopes_intercepts(lines)\n",
    "    slope_i = []\n",
    "    for i in range(len(slope)):\n",
    "        if np.abs(slope[i]) > 1.5:\n",
    "            slope_i.append(i)\n",
    "    \n",
    "    # for i in slope_i:\n",
    "    #     new_lines = lines[i].append()\n",
    "    # new_lines = new_lines.sort(reverse=True)\n",
    "    # final_line = [new_lines[0] - new_lines[1]]\n",
    "    # for j in range(1, len(new_lines)-1):\n",
    "    #     if \n",
    "    "
   ]
  }
 ],
 "metadata": {
  "kernelspec": {
   "display_name": "bluecv",
   "language": "python",
   "name": "python3"
  },
  "language_info": {
   "codemirror_mode": {
    "name": "ipython",
    "version": 3
   },
   "file_extension": ".py",
   "mimetype": "text/x-python",
   "name": "python",
   "nbconvert_exporter": "python",
   "pygments_lexer": "ipython3",
   "version": "3.9.2"
  },
  "orig_nbformat": 4
 },
 "nbformat": 4,
 "nbformat_minor": 2
}
